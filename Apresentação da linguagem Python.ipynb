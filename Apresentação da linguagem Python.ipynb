{
 "cells": [
  {
   "cell_type": "markdown",
   "metadata": {},
   "source": [
    "# Apresentação da linguagem Python\n",
    "\n",
    "Linguagem criada por Guido van Rossum\n",
    "\n",
    "### Comandos matemáticos:\n",
    "- `+ - * %` Comandos básicos de operação aritmética\n",
    "- ``/`` & ``//`` Divisão por inteiro e por float\n",
    "- ``**`` Potencialização\n",
    "\n",
    "### Booleanos:\n",
    "- ``True`` e ``False`` são ``1`` e ``0``, respectivamente\n",
    "- ``False`` Pode ser qualquer estrutura vazia\n",
    "- ``== != <= <`` Operações booleanas padrão\n",
    "- ``& |`` Operações booleanas E e OU\n",
    "- ``is`` verifica se duas variáveis apontam para o mesmo valor\n",
    "\n",
    "### Strings:\n",
    "- Strings são listas\n",
    "- Concatenação com ``+`` ou `` ``\n",
    "- ``f\"texto{var}\"`` String formatada, disponível a partir da versão 3.6 do Python\n",
    "\n",
    "### Entrada e Saida de texto:\n",
    "- ``print(\"Hello World\")``\n",
    "- ``input(\"Qual o seu nome?\")``\n",
    "\n",
    "### Condicionais:\n",
    "- ``if else elif`` Condicional padrão\n",
    "- ``\"foi\" condição \"não-foi\"`` \n",
    "\n",
    "### Listas/Estruturas de dados\n",
    "- ``lista = []``\n",
    "- ``.append() .pop(pos) .insert(pos, valor) .remove(valor) .index(valor)``\n",
    "- ``[-1] [:] [::]``\n",
    "- ``valor in lista``\n",
    "- ``a,b,c = ['a','b','c']``\n",
    "- Tuplas ``(1,2,3)`` \n",
    "- Dicionários ``{\"key\":valor, \"key2\":valor2}`` ou ``{(\"key\",\"key2\")[valor, valor2]}``\n",
    "\n",
    "### Funções\n",
    "- ``def função():``\n",
    "- ``*args`` ``*kwargs``\n",
    "- variaveis globais\n",
    "\n",
    "### Loops\n",
    "- ``for key in lista`` ou ``for i,key in enumerate(lista)``\n",
    "- `while condição:`\n",
    "\n",
    "### Tentativas\n",
    "- ``try except finally``\n",
    "- ``with algo as variavel``\n",
    "\n",
    "___"
   ]
  },
  {
   "cell_type": "markdown",
   "metadata": {},
   "source": [
    "# Pip e Pypi\n",
    "\n",
    "Pip é o gerênciador de pacotes do Python, é por ele que podemos instalar pacotes para usar em nossas aplicações.\n",
    "\n",
    "> pip install requests\n",
    "\n",
    "Para conoferir os pacotes disponíveis, podemos olhar o site [Pypi](https://pypi.org)\n",
    "___\n"
   ]
  },
  {
   "cell_type": "markdown",
   "metadata": {},
   "source": [
    "# Requests, HTTP para humanos\n",
    "\n",
    "A principal forma de fazer requisições http usando Python é com a biblioteca [Requests](https://requests.readthedocs.io/en/master/), ela oferece uma facilidade de uso que deixa fácil de entender o que está acontecendo na requisição.\n",
    "\n",
    "Para começar a usa-la, primeiro devemos instala-la, como no comando mostrado anteriormente, após isso, temos que importa-la ao nosso projeto:"
   ]
  },
  {
   "cell_type": "code",
   "execution_count": 7,
   "metadata": {},
   "outputs": [],
   "source": [
    "import requests"
   ]
  },
  {
   "cell_type": "markdown",
   "metadata": {},
   "source": [
    "Agora iremos demonstrar o uso da biblioteca usando os dados que o [Brasil.IO](https://brasil.io/) nos disponibiliza:"
   ]
  },
  {
   "cell_type": "code",
   "execution_count": 11,
   "metadata": {},
   "outputs": [
    {
     "name": "stdout",
     "output_type": "stream",
     "text": [
      "<Response [200]>\n"
     ]
    }
   ],
   "source": [
    "url = 'https://brasil.io/api/dataset/covid19/caso/data/?state=MT&city=None&is_last=True'\n",
    "r = requests.get(url)\n",
    "print(r)"
   ]
  },
  {
   "cell_type": "markdown",
   "metadata": {},
   "source": [
    "Estamos pesquisando os ultimos dados de contaminados e mortos pela COVID-19 em Mato Grosso, o site [disponibiliza uma página](https://brasil.io/dataset/covid19/caso/?search=&date=&state=MT&city=None&place_type=&is_last=True&city_ibge_code=&order_for_place=) para que possamos brincar com a API antes de requisitar os dados.\n",
    "Na célula anterior, fizemos uma requisição https para a `url` e isso nos gerou um objeto que nos da uma resposta de número 200, isso quer dizer que a solicitação ocorreu tudo como planejado, como podemos ver aqui no [portal da Mozilla Developers Network](https://developer.mozilla.org/pt-BR/docs/Web/HTTP/Status).\n",
    "Agora temos que pegar os dados que pedimos nessa requisição, pra isso podemos fazer assim:"
   ]
  },
  {
   "cell_type": "code",
   "execution_count": 14,
   "metadata": {},
   "outputs": [
    {
     "name": "stdout",
     "output_type": "stream",
     "text": [
      "{\"count\":1,\"next\":null,\"previous\":null,\"results\":[{\"city\":null,\"city_ibge_code\":\"51\",\"confirmed\":10021,\"confirmed_per_100k_inhabitants\":287.5907,\"date\":\"2020-06-22\",\"death_rate\":0.0383,\"deaths\":384,\"estimated_population_2019\":3484466,\"is_last\":true,\"order_for_place\":92,\"place_type\":\"state\",\"state\":\"MT\"}]}\n",
      "<class 'str'>\n"
     ]
    }
   ],
   "source": [
    "print(r.text)\n",
    "print(type(r.text))"
   ]
  },
  {
   "cell_type": "markdown",
   "metadata": {},
   "source": [
    "Pelo visto temos um monte de texto (no caso um json) com o conteúdo que queremos. Para tratar esse texto a Requests possui um método que transforma esse 'blob' em uma estrutura útil:"
   ]
  },
  {
   "cell_type": "code",
   "execution_count": 18,
   "metadata": {},
   "outputs": [
    {
     "name": "stdout",
     "output_type": "stream",
     "text": [
      "<class 'dict'>\n",
      "{'count': 1, 'next': None, 'previous': None, 'results': [{'city': None, 'city_ibge_code': '51', 'confirmed': 10021, 'confirmed_per_100k_inhabitants': 287.5907, 'date': '2020-06-22', 'death_rate': 0.0383, 'deaths': 384, 'estimated_population_2019': 3484466, 'is_last': True, 'order_for_place': 92, 'place_type': 'state', 'state': 'MT'}]}\n"
     ]
    }
   ],
   "source": [
    "jason = r.json()\n",
    "print(type(jason))\n",
    "print(jason)"
   ]
  },
  {
   "cell_type": "markdown",
   "metadata": {},
   "source": [
    "Parece que não mudou muita coisa, mas agora nós temos um dicionário ao invés de um monte de caractere junto. Com isso, após analisar a estrutura do dado, podemos filtrar o que queremos e pegar os dados de infectados e dos mortos por COVID-19."
   ]
  },
  {
   "cell_type": "code",
   "execution_count": 25,
   "metadata": {},
   "outputs": [
    {
     "name": "stdout",
     "output_type": "stream",
     "text": [
      "Dados do COVID-19 no dia 2020-06-22 em Mato Grosso\n",
      "\n",
      "Pessoas infectadas confirmadas: 10021\n",
      "Pessoas mortas confirmadas:     384\n"
     ]
    }
   ],
   "source": [
    "infectados = jason['results'][0]['confirmed']\n",
    "mortos = jason['results'][0]['deaths']\n",
    "dia = jason['results'][0]['date']\n",
    "\n",
    "print(f\"Dados do COVID-19 no dia {dia} em Mato Grosso\\n\")\n",
    "print(f\"Pessoas infectadas confirmadas: {infectados}\")\n",
    "print(f\"Pessoas mortas confirmadas:     {mortos}\")"
   ]
  },
  {
   "cell_type": "markdown",
   "metadata": {},
   "source": [
    "Isto é apenas uma demonstração do poder da ferramente, fácilmente conseguimos obter acesso a uma API e os dados contidos nela. Para saber tudo que ela pode fazer, recomendo ler a [documentação](https://requests.readthedocs.io/en/master/user/quickstart/)\n",
    "___"
   ]
  },
  {
   "cell_type": "markdown",
   "metadata": {},
   "source": [
    "# Twitter API\n",
    "\n",
    "O twitter oferece a nós uma [API](https://developer.twitter.com/en) para desenvolver em cima de sua plataforma. \n",
    "\n",
    "Para facilitar o uso, temos no Python uma biblioteca que nos ajuda a fazer essas requisições, chamada de [Tweepy](https://www.tweepy.org/)."
   ]
  },
  {
   "cell_type": "code",
   "execution_count": 2,
   "metadata": {},
   "outputs": [],
   "source": [
    "import tweepy\n",
    "import json"
   ]
  },
  {
   "cell_type": "markdown",
   "metadata": {},
   "source": [
    "Para usarmos a API, temos que autenticar nossa sessão, devemos fazer isso no backend de maneira mais segura possível, um vazamento desses dados pode ser catastrófico, uma vez que contas podem ser bloqueadas ou cobradas por uso.\n",
    "\n",
    "No caso, criei um arquivo *json* com as credênciais que o Twitter me deu.\n",
    "``` javascript\n",
    "credenciais.json\n",
    "{\n",
    "    \"consumer_key\":  \"XXXXXXXXXXXXXXXXXXXXXXXXXXXXXX\",\n",
    "    \"consumer_secret\":  \"XXXXXXXXXXXXXXXXXXXXXXXXXXXXXXXXXXXXXXXXX\",\n",
    "    \"access_token\": \"XXXXXXXXXXX-XXXXXXXXXXXXXXXXXXXXXXXXXXX\",\n",
    "    \"access_token_secret\":  \"XXXXXXXXXXXXXXXXXXXXXXXXXXXXXXXXXXXXXXXXX\"\n",
    "}```"
   ]
  },
  {
   "cell_type": "code",
   "execution_count": 3,
   "metadata": {},
   "outputs": [],
   "source": [
    "with open('credenciais.json', 'r') as keys:\n",
    "    k = json.load(keys)\n",
    "    global consumer_key \n",
    "    consumer_key = k[\"consumer_key\"]\n",
    "    \n",
    "    global consumer_secret\n",
    "    consumer_secret = k[\"consumer_secret\"]\n",
    "    \n",
    "    global access_token\n",
    "    access_token = k[\"access_token\"]\n",
    "    \n",
    "    global access_token_secret\n",
    "    access_token_secret = k[\"access_token_secret\"]"
   ]
  },
  {
   "cell_type": "code",
   "execution_count": 7,
   "metadata": {},
   "outputs": [],
   "source": [
    "auth = tweepy.OAuthHandler(consumer_key, consumer_secret)\n",
    "auth.set_access_token(access_token, access_token_secret)\n",
    "\n",
    "api = tweepy.API(auth)\n"
   ]
  },
  {
   "cell_type": "code",
   "execution_count": 8,
   "metadata": {},
   "outputs": [],
   "source": [
    "pesquisa = api.search(q='corona', lang='pt')"
   ]
  },
  {
   "cell_type": "code",
   "execution_count": 7,
   "metadata": {},
   "outputs": [
    {
     "name": "stdout",
     "output_type": "stream",
     "text": [
      "<class 'tweepy.models.SearchResults'>\n"
     ]
    }
   ],
   "source": [
    "print(type(pesquisa))"
   ]
  },
  {
   "cell_type": "code",
   "execution_count": 12,
   "metadata": {},
   "outputs": [],
   "source": [
    "tweets = [] #lista vazia que colocaremos os tweets\n",
    "for t in pesquisa:\n",
    "    tweets.append(t._json)"
   ]
  },
  {
   "cell_type": "code",
   "execution_count": 9,
   "metadata": {
    "scrolled": true
   },
   "outputs": [
    {
     "name": "stdout",
     "output_type": "stream",
     "text": [
      "Dantaxx disse: RT @anyloyals: aula presencial: lição de casa pagina 23 e 24\n",
      "\n",
      "ead: pagina 23 a 203, construir uma ponte, achar a cura do corona vírus, ress…\n",
      "----\n",
      "\n",
      "irma da luisa disse: RT @doarda: corona vá embora e eu digo se esperava ou não\n",
      "----\n",
      "\n",
      "MUTTLEY 🏳️‍🌈 disse: Gente to pasma, falaram que um guardinha la da jbs (esses que estão cuidando por culpa do corona) bateu em um funci… https://t.co/GT1r8Jb2Ni\n",
      "----\n",
      "\n",
      "xu xu li a disse: RT @anyloyals: aula presencial: lição de casa pagina 23 e 24\n",
      "\n",
      "ead: pagina 23 a 203, construir uma ponte, achar a cura do corona vírus, ress…\n",
      "----\n",
      "\n",
      "OBOSQUE disse: Pq eu tô extramente decepcionado com a maioria dos meus amigos se dizia incrivelmente compreensível mas saiem toda… https://t.co/8hPbJzD6sG\n",
      "----\n",
      "\n",
      "Berits disse: Já pensaram quanta coisa deixou de acontecer pq tem essa bosta de Corona?\n",
      "----\n",
      "\n",
      "𝐈𝐳𝐚 disse: RT @doarda: corona vá embora e eu digo se esperava ou não\n",
      "----\n",
      "\n",
      "bo kath disse: RT @doarda: corona vá embora e eu digo se esperava ou não\n",
      "----\n",
      "\n",
      "Ro7 Manoel disse: RT @AlessandroLoio2: Já tomou seus 20 minutos de Sol hoje? Isso produz 90% da Vitamina D q seu corpo irá precisar para evitar e combater o…\n",
      "----\n",
      "\n",
      "elle. disse: 23 de Junho, hoje eu estaria provavelmente na casa de alguma amiga me arrumando pra festa que sempre tem de São Joã… https://t.co/IZaWXUyZWQ\n",
      "----\n",
      "\n",
      "lets😗✌️ disse: @LuPreisner nsss não sabia \n",
      "sim corona fodeu td\n",
      "----\n",
      "\n",
      "ex usuária de crossfit disse: RT @laurampalharini: Eu queria tanto voltar a treinar... se saiaaaaa corona vírus\n",
      "----\n",
      "\n",
      "Bot CoronaVirus disse: RT @assembleiamg: #FakeNews #Coronavírus Informação salva! É mentira q paciente infectado sem sintomas não transmite o coronavírus. A @tval…\n",
      "----\n",
      "\n",
      "🤪✨ disse: @CoeLukita Dps fala \"tô com medo do corona\" vai tomar no cú kkkkkkkkkkkk\n",
      "----\n",
      "\n",
      "👑 Cαssєℓi 🍎✍️ disse: toda hora tem algum cara diferente em vídeo falando que o corona vírus isso e aquilo e no fim é tudo mentira, mano… https://t.co/ANB4QOyGVu\n",
      "----\n",
      "\n"
     ]
    }
   ],
   "source": [
    "for i in tweets:\n",
    "    print(i[\"user\"][\"name\"]+' disse: ' + i[\"text\"] + '\\n----\\n')"
   ]
  },
  {
   "cell_type": "markdown",
   "metadata": {},
   "source": [
    "Podemos, também, jogar os dados que pesquisamos num arquivo para ser usados em outros programas.\n",
    "No caso, vamos fazer um arquivo *json*:"
   ]
  },
  {
   "cell_type": "code",
   "execution_count": 34,
   "metadata": {
    "scrolled": true
   },
   "outputs": [
    {
     "name": "stdout",
     "output_type": "stream",
     "text": [
      "[{\"nome\": \"Dantaxx\", \"texto\": \"RT @anyloyals: aula presencial: li\\u00e7\\u00e3o de casa pagina 23 e 24\\n\\nead: pagina 23 a 203, construir uma ponte, achar a cura do corona v\\u00edrus, ress\\u2026\"}, {\"nome\": \"irma da luisa\", \"texto\": \"RT @doarda: corona v\\u00e1 embora e eu digo se esperava ou n\\u00e3o\"}, {\"nome\": \"MUTTLEY \\ud83c\\udff3\\ufe0f\\u200d\\ud83c\\udf08\", \"texto\": \"Gente to pasma, falaram que um guardinha la da jbs (esses que est\\u00e3o cuidando por culpa do corona) bateu em um funci\\u2026 https://t.co/GT1r8Jb2Ni\"}, {\"nome\": \"xu xu li a\", \"texto\": \"RT @anyloyals: aula presencial: li\\u00e7\\u00e3o de casa pagina 23 e 24\\n\\nead: pagina 23 a 203, construir uma ponte, achar a cura do corona v\\u00edrus, ress\\u2026\"}, {\"nome\": \"OBOSQUE\", \"texto\": \"Pq eu t\\u00f4 extramente decepcionado com a maioria dos meus amigos se dizia incrivelmente compreens\\u00edvel mas saiem toda\\u2026 https://t.co/8hPbJzD6sG\"}, {\"nome\": \"Berits\", \"texto\": \"J\\u00e1 pensaram quanta coisa deixou de acontecer pq tem essa bosta de Corona?\"}, {\"nome\": \"\\ud835\\udc08\\ud835\\udc33\\ud835\\udc1a\", \"texto\": \"RT @doarda: corona v\\u00e1 embora e eu digo se esperava ou n\\u00e3o\"}, {\"nome\": \"bo kath\", \"texto\": \"RT @doarda: corona v\\u00e1 embora e eu digo se esperava ou n\\u00e3o\"}, {\"nome\": \"Ro7 Manoel\", \"texto\": \"RT @AlessandroLoio2: J\\u00e1 tomou seus 20 minutos de Sol hoje? Isso produz 90% da Vitamina D q seu corpo ir\\u00e1 precisar para evitar e combater o\\u2026\"}, {\"nome\": \"elle.\", \"texto\": \"23 de Junho, hoje eu estaria provavelmente na casa de alguma amiga me arrumando pra festa que sempre tem de S\\u00e3o Jo\\u00e3\\u2026 https://t.co/IZaWXUyZWQ\"}, {\"nome\": \"lets\\ud83d\\ude17\\u270c\\ufe0f\", \"texto\": \"@LuPreisner nsss n\\u00e3o sabia \\nsim corona fodeu td\"}, {\"nome\": \"ex usu\\u00e1ria de crossfit\", \"texto\": \"RT @laurampalharini: Eu queria tanto voltar a treinar... se saiaaaaa corona v\\u00edrus\"}, {\"nome\": \"Bot CoronaVirus\", \"texto\": \"RT @assembleiamg: #FakeNews #Coronav\\u00edrus Informa\\u00e7\\u00e3o salva! \\u00c9 mentira q paciente infectado sem sintomas n\\u00e3o transmite o coronav\\u00edrus. A @tval\\u2026\"}, {\"nome\": \"\\ud83e\\udd2a\\u2728\", \"texto\": \"@CoeLukita Dps fala \\\"t\\u00f4 com medo do corona\\\" vai tomar no c\\u00fa kkkkkkkkkkkk\"}, {\"nome\": \"\\ud83d\\udc51 C\\u03b1ss\\u0454\\u2113i \\ud83c\\udf4e\\u270d\\ufe0f\", \"texto\": \"toda hora tem algum cara diferente em v\\u00eddeo falando que o corona v\\u00edrus isso e aquilo e no fim \\u00e9 tudo mentira, mano\\u2026 https://t.co/ANB4QOyGVu\"}]\n"
     ]
    }
   ],
   "source": [
    "# criar json com os tweets+nome\n",
    "jason = []\n",
    "for tweet in tweets: \n",
    "    jason.append({\"nome\":tweet[\"user\"][\"name\"], \"texto\":tweet[\"text\"]})\n",
    "\n",
    "j = json.dumps(jason)\n",
    "print(j)"
   ]
  },
  {
   "cell_type": "code",
   "execution_count": 56,
   "metadata": {},
   "outputs": [],
   "source": [
    "with open('meu.json', 'w') as mj:\n",
    "    mj.write(j)"
   ]
  },
  {
   "cell_type": "markdown",
   "metadata": {},
   "source": [
    "Com isso, podemos abrir esse arquivo em outros programas (que aceitam o formato json).\n",
    "___"
   ]
  },
  {
   "cell_type": "markdown",
   "metadata": {},
   "source": [
    "# Flask\n",
    "[Flask](https://flask.palletsprojects.com/en/1.1.x/) é uma *microframwork* desenvolvida para Python, muito usada em APIs e sistema mais simples.\n",
    "No nosso exemplo, estou apenas portando o trabalho com o Tweepy em uma API que nos devolve o arquivo json que produzimos agora a pouco.\n",
    "O projeto pode ser acompanhado [aqui](https://github.com/felipejardim/site-demonstracao-python)"
   ]
  }
 ],
 "metadata": {
  "kernelspec": {
   "display_name": "Python 3",
   "language": "python",
   "name": "python3"
  },
  "language_info": {
   "codemirror_mode": {
    "name": "ipython",
    "version": 3
   },
   "file_extension": ".py",
   "mimetype": "text/x-python",
   "name": "python",
   "nbconvert_exporter": "python",
   "pygments_lexer": "ipython3",
   "version": "3.7.6"
  }
 },
 "nbformat": 4,
 "nbformat_minor": 4
}
