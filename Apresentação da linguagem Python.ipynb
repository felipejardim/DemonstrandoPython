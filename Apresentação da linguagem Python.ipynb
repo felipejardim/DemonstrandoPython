{
 "cells": [
  {
   "cell_type": "markdown",
   "metadata": {},
   "source": [
    "# Apresentação da linguagem Python\n",
    "\n",
    "Linguagem criada por Guido van Rossum\n",
    "\n",
    "### Comandos matemáticos:\n",
    "- `+ - * %` Comandos básicos de operação aritmética\n",
    "- ``/`` & ``//`` Divisão por inteiro e por float\n",
    "- ``**`` Potencialização\n",
    "\n",
    "### Booleanos:\n",
    "- ``True`` e ``False`` são ``1`` e ``0``, respectivamente\n",
    "- ``False`` Pode ser qualquer estrutura vazia\n",
    "- ``== != <= <`` Operações booleanas padrão\n",
    "- ``& |`` Operações booleanas E e OU\n",
    "- ``is`` verifica se duas variáveis apontam para o mesmo valor\n",
    "\n",
    "### Strings:\n",
    "- Strings são listas\n",
    "- Concatenação com ``+`` ou `` ``\n",
    "- ``f\"texto{var}\"`` String formatada, disponível a partir da versão 3.6 do Python\n",
    "\n",
    "### Entrada e Saida de texto:\n",
    "- ``print(\"Hello World\")``\n",
    "- ``input(\"Qual o seu nome?\")``\n",
    "\n",
    "### Condicionais:\n",
    "- ``if else elif`` Condicional padrão\n",
    "- ``\"foi\" condição \"não-foi\"`` \n",
    "\n",
    "### Listas/Estruturas de dados\n",
    "- ``lista = []``\n",
    "- ``.append() .pop(pos) .insert(pos, valor) .remove(valor) .index(valor)``\n",
    "- ``[-1] [:] [::]``\n",
    "- ``valor in lista``\n",
    "- ``a,b,c = ['a','b','c']``\n",
    "- Tuplas ``(1,2,3)`` \n",
    "- Dicionários ``{\"key\":valor, \"key2\":valor2}`` ou ``{(\"key\",\"key2\")[valor, valor2]}``\n",
    "\n",
    "### Funções\n",
    "- ``def função():``\n",
    "- ``*args`` ``*kwargs``\n",
    "- variaveis globais\n",
    "\n",
    "### Loops\n",
    "- ``for key in lista`` ou ``for i,key in enumerate(lista)``\n",
    "- `while condição:`\n",
    "\n",
    "### Tentativas\n",
    "- ``try except finally``\n",
    "- ``with algo as variavel``\n",
    "\n",
    "___"
   ]
  },
  {
   "cell_type": "markdown",
   "metadata": {},
   "source": [
    "# Pip e Pypi\n",
    "\n",
    "Pip é o gerênciador de pacotes do Python, é por ele que podemos instalar pacotes para usar em nossas aplicações.\n",
    "\n",
    "> pip install requests\n",
    "\n",
    "Para conoferir os pacotes disponíveis, podemos olhar o site [Pypi](https://pypi.org)\n",
    "___\n"
   ]
  },
  {
   "cell_type": "markdown",
   "metadata": {},
   "source": [
    "# Requests, HTTP para humanos\n",
    "\n",
    "A principal forma de fazer requisições http usando Python é com a biblioteca [Requests](https://requests.readthedocs.io/en/master/), ela oferece uma facilidade de uso que deixa fácil de entender o que está acontecendo na requisição.\n",
    "\n",
    "Para começar a usa-la, primeiro devemos instala-la, como no comando mostrado anteriormente, após isso, temos que importa-la ao nosso projeto:"
   ]
  },
  {
   "cell_type": "code",
   "execution_count": 7,
   "metadata": {},
   "outputs": [],
   "source": [
    "import requests"
   ]
  },
  {
   "cell_type": "code",
   "execution_count": 8,
   "metadata": {},
   "outputs": [
    {
     "name": "stdout",
     "output_type": "stream",
     "text": [
      "<Response [200]>\n"
     ]
    }
   ],
   "source": [
    "r = requests.get('https://api.github.com/events')\n",
    "print(r)"
   ]
  }
 ],
 "metadata": {
  "kernelspec": {
   "display_name": "Python 3",
   "language": "python",
   "name": "python3"
  },
  "language_info": {
   "codemirror_mode": {
    "name": "ipython",
    "version": 3
   },
   "file_extension": ".py",
   "mimetype": "text/x-python",
   "name": "python",
   "nbconvert_exporter": "python",
   "pygments_lexer": "ipython3",
   "version": "3.7.6"
  }
 },
 "nbformat": 4,
 "nbformat_minor": 4
}
