{
 "cells": [
  {
   "cell_type": "markdown",
   "metadata": {},
   "source": [
    "# Apresentação da linguagem Python"
   ]
  },
  {
   "attachments": {},
   "cell_type": "markdown",
   "metadata": {},
   "source": [
    "Linguagem criada por Guido van Rossum"
   ]
  },
  {
   "cell_type": "markdown",
   "metadata": {},
   "source": [
    "### Comandos matemáticos:\n",
    "- `+ - * %` Comandos básicos de operação aritmética\n",
    "- ``/`` & ``//`` Divisão por inteiro e por float\n",
    "- ``**`` Potencialização\n",
    "\n",
    "### Booleanos:\n",
    "- ``True`` e ``False`` são ``1`` e ``0``, respectivamente\n",
    "- ``False`` Pode ser qualquer estrutura vazia\n",
    "- ``== != <= <`` Operações booleanas padrão\n",
    "- ``& |`` Operações booleanas E e OU\n",
    "- ``is`` verifica se duas variáveis apontam para o mesmo valor\n",
    "\n",
    "### Strings:\n",
    "- Strings são listas\n",
    "- Concatenação com ``+`` ou `` ``\n",
    "- ``f\"texto{var}\"`` String formatada, disponível a partir da versão 3.6 do Python\n",
    "\n",
    "### Entrada e Saida de texto:\n",
    "- ``print(\"Hello World\")``\n",
    "- ``input(\"Qual o seu nome?\")``\n",
    "\n",
    "### Condicionais:\n",
    "- ``if else elif`` Condicional padrão\n",
    "- ``\"foi\" condição \"não-foi\"`` \n",
    "\n",
    "### Listas/Estruturas de dados\n",
    "- ``lista = []``\n",
    "- ``.append() .pop(pos) .insert(pos, valor) .remove(valor) .index(valor)``\n",
    "- ``[-1] [:] [::]``\n",
    "- ``valor in lista``\n",
    "- ``a,b,c = ['a','b','c']``\n",
    "- Tuplas ``(1,2,3)`` \n",
    "- Dicionários ``{\"key\":valor, \"key2\":valor2}`` ou ``{(\"key\",\"key2\")[valor, valor2]}``\n",
    "\n",
    "### Funções\n",
    "- ``def função():``\n",
    "- ``*args`` ``*kwargs``\n",
    "- variaveis globais\n",
    "\n",
    "### Loops\n",
    "- ``for key in lista`` ou ``for i,key in enumerate(lista)``\n",
    "- `while condição:`\n",
    "\n",
    "### Tentativas\n",
    "- ``try except finally``\n",
    "- ``with algo as variavel``\n"
   ]
  }
 ],
 "metadata": {
  "kernelspec": {
   "display_name": "Python 3",
   "language": "python",
   "name": "python3"
  },
  "language_info": {
   "codemirror_mode": {
    "name": "ipython",
    "version": 3
   },
   "file_extension": ".py",
   "mimetype": "text/x-python",
   "name": "python",
   "nbconvert_exporter": "python",
   "pygments_lexer": "ipython3",
   "version": "3.7.6"
  }
 },
 "nbformat": 4,
 "nbformat_minor": 4
}
