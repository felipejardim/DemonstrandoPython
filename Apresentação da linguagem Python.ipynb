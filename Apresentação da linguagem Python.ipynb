{
 "cells": [
  {
   "cell_type": "markdown",
   "metadata": {},
   "source": [
    "# Apresentação da linguagem Python\n",
    "\n",
    "Linguagem criada por Guido van Rossum\n",
    "\n",
    "### Comandos matemáticos:\n",
    "- `+ - * %` Comandos básicos de operação aritmética\n",
    "- ``/`` & ``//`` Divisão por inteiro e por float\n",
    "- ``**`` Potencialização\n",
    "\n",
    "### Booleanos:\n",
    "- ``True`` e ``False`` são ``1`` e ``0``, respectivamente\n",
    "- ``False`` Pode ser qualquer estrutura vazia\n",
    "- ``== != <= <`` Operações booleanas padrão\n",
    "- ``& |`` Operações booleanas E e OU\n",
    "- ``is`` verifica se duas variáveis apontam para o mesmo valor\n",
    "\n",
    "### Strings:\n",
    "- Strings são listas\n",
    "- Concatenação com ``+`` ou `` ``\n",
    "- ``f\"texto{var}\"`` String formatada, disponível a partir da versão 3.6 do Python\n",
    "\n",
    "### Entrada e Saida de texto:\n",
    "- ``print(\"Hello World\")``\n",
    "- ``input(\"Qual o seu nome?\")``\n",
    "\n",
    "### Condicionais:\n",
    "- ``if else elif`` Condicional padrão\n",
    "- ``\"foi\" condição \"não-foi\"`` \n",
    "\n",
    "### Listas/Estruturas de dados\n",
    "- ``lista = []``\n",
    "- ``.append() .pop(pos) .insert(pos, valor) .remove(valor) .index(valor)``\n",
    "- ``[-1] [:] [::]``\n",
    "- ``valor in lista``\n",
    "- ``a,b,c = ['a','b','c']``\n",
    "- Tuplas ``(1,2,3)`` \n",
    "- Dicionários ``{\"key\":valor, \"key2\":valor2}`` ou ``{(\"key\",\"key2\")[valor, valor2]}``\n",
    "\n",
    "### Funções\n",
    "- ``def função():``\n",
    "- ``*args`` ``*kwargs``\n",
    "- variaveis globais\n",
    "\n",
    "### Loops\n",
    "- ``for key in lista`` ou ``for i,key in enumerate(lista)``\n",
    "- `while condição:`\n",
    "\n",
    "### Tentativas\n",
    "- ``try except finally``\n",
    "- ``with algo as variavel``\n",
    "\n",
    "___"
   ]
  },
  {
   "cell_type": "markdown",
   "metadata": {},
   "source": [
    "# Pip e Pypi\n",
    "\n",
    "Pip é o gerênciador de pacotes do Python, é por ele que podemos instalar pacotes para usar em nossas aplicações.\n",
    "\n",
    "> pip install requests\n",
    "\n",
    "Para conoferir os pacotes disponíveis, podemos olhar o site [Pypi](https://pypi.org)\n",
    "___\n"
   ]
  },
  {
   "cell_type": "markdown",
   "metadata": {},
   "source": [
    "# Requests, HTTP para humanos\n",
    "\n",
    "A principal forma de fazer requisições http usando Python é com a biblioteca [Requests](https://requests.readthedocs.io/en/master/), ela oferece uma facilidade de uso que deixa fácil de entender o que está acontecendo na requisição.\n",
    "\n",
    "Para começar a usa-la, primeiro devemos instala-la, como no comando mostrado anteriormente, após isso, temos que importa-la ao nosso projeto:"
   ]
  },
  {
   "cell_type": "code",
   "execution_count": 7,
   "metadata": {},
   "outputs": [],
   "source": [
    "import requests"
   ]
  },
  {
   "cell_type": "markdown",
   "metadata": {},
   "source": [
    "Agora iremos demonstrar o uso da biblioteca usando os dados que o [Brasil.IO](https://brasil.io/) nos disponibiliza:"
   ]
  },
  {
   "cell_type": "code",
   "execution_count": 11,
   "metadata": {},
   "outputs": [
    {
     "name": "stdout",
     "output_type": "stream",
     "text": [
      "<Response [200]>\n"
     ]
    }
   ],
   "source": [
    "url = 'https://brasil.io/api/dataset/covid19/caso/data/?state=MT&city=None&is_last=True'\n",
    "r = requests.get(url)\n",
    "print(r)"
   ]
  },
  {
   "cell_type": "markdown",
   "metadata": {},
   "source": [
    "Estamos pesquisando os ultimos dados de contaminados e mortos pela COVID-19 em Mato Grosso, o site [disponibiliza uma página](https://brasil.io/dataset/covid19/caso/?search=&date=&state=MT&city=None&place_type=&is_last=True&city_ibge_code=&order_for_place=) para que possamos brincar com a API antes de requisitar os dados.\n",
    "Na célula anterior, fizemos uma requisição https para a `url` e isso nos gerou um objeto que nos da uma resposta de número 200, isso quer dizer que a solicitação ocorreu tudo como planejado, como podemos ver aqui no [portal da Mozilla Developers Network](https://developer.mozilla.org/pt-BR/docs/Web/HTTP/Status).\n",
    "Agora temos que pegar os dados que pedimos nessa requisição, pra isso podemos fazer assim:"
   ]
  },
  {
   "cell_type": "code",
   "execution_count": 14,
   "metadata": {},
   "outputs": [
    {
     "name": "stdout",
     "output_type": "stream",
     "text": [
      "{\"count\":1,\"next\":null,\"previous\":null,\"results\":[{\"city\":null,\"city_ibge_code\":\"51\",\"confirmed\":10021,\"confirmed_per_100k_inhabitants\":287.5907,\"date\":\"2020-06-22\",\"death_rate\":0.0383,\"deaths\":384,\"estimated_population_2019\":3484466,\"is_last\":true,\"order_for_place\":92,\"place_type\":\"state\",\"state\":\"MT\"}]}\n",
      "<class 'str'>\n"
     ]
    }
   ],
   "source": [
    "print(r.text)\n",
    "print(type(r.text))"
   ]
  },
  {
   "cell_type": "markdown",
   "metadata": {},
   "source": [
    "Pelo visto temos um monte de texto (no caso um json) com o conteúdo que queremos. Para tratar esse texto a Requests possui um método que transforma esse 'blob' em uma estrutura útil:"
   ]
  },
  {
   "cell_type": "code",
   "execution_count": 18,
   "metadata": {},
   "outputs": [
    {
     "name": "stdout",
     "output_type": "stream",
     "text": [
      "<class 'dict'>\n",
      "{'count': 1, 'next': None, 'previous': None, 'results': [{'city': None, 'city_ibge_code': '51', 'confirmed': 10021, 'confirmed_per_100k_inhabitants': 287.5907, 'date': '2020-06-22', 'death_rate': 0.0383, 'deaths': 384, 'estimated_population_2019': 3484466, 'is_last': True, 'order_for_place': 92, 'place_type': 'state', 'state': 'MT'}]}\n"
     ]
    }
   ],
   "source": [
    "jason = r.json()\n",
    "print(type(jason))\n",
    "print(jason)"
   ]
  },
  {
   "cell_type": "markdown",
   "metadata": {},
   "source": [
    "Parece que não mudou muita coisa, mas agora nós temos um dicionário ao invés de um monte de caractere junto. Com isso, após analisar a estrutura do dado, podemos filtrar o que queremos e pegar os dados de infectados e dos mortos por COVID-19."
   ]
  },
  {
   "cell_type": "code",
   "execution_count": 25,
   "metadata": {},
   "outputs": [
    {
     "name": "stdout",
     "output_type": "stream",
     "text": [
      "Dados do COVID-19 no dia 2020-06-22 em Mato Grosso\n",
      "\n",
      "Pessoas infectadas confirmadas: 10021\n",
      "Pessoas mortas confirmadas:     384\n"
     ]
    }
   ],
   "source": [
    "infectados = jason['results'][0]['confirmed']\n",
    "mortos = jason['results'][0]['deaths']\n",
    "dia = jason['results'][0]['date']\n",
    "\n",
    "print(f\"Dados do COVID-19 no dia {dia} em Mato Grosso\\n\")\n",
    "print(f\"Pessoas infectadas confirmadas: {infectados}\")\n",
    "print(f\"Pessoas mortas confirmadas:     {mortos}\")"
   ]
  },
  {
   "cell_type": "markdown",
   "metadata": {},
   "source": [
    "Isto é apenas uma demonstração do poder da ferramente, fácilmente conseguimos obter acesso a uma API e os dados contidos nela. Para saber tudo que ela pode fazer, recomendo ler a [documentação](https://requests.readthedocs.io/en/master/user/quickstart/)\n",
    "___"
   ]
  },
  {
   "cell_type": "markdown",
   "metadata": {},
   "source": [
    "# Twitter API"
   ]
  },
  {
   "cell_type": "code",
   "execution_count": 104,
   "metadata": {},
   "outputs": [],
   "source": [
    "import tweepy\n",
    "import json"
   ]
  },
  {
   "cell_type": "code",
   "execution_count": 113,
   "metadata": {},
   "outputs": [],
   "source": [
    "with open('credenciais.json', 'r') as keys:\n",
    "    k = json.load(keys)\n",
    "    global consumer_key \n",
    "    consumer_key = k[\"consumer_key\"]\n",
    "    \n",
    "    global consumer_secret\n",
    "    consumer_secret = k[\"consumer_secret\"]\n",
    "    \n",
    "    global access_token\n",
    "    access_token = k[\"access_token\"]\n",
    "    \n",
    "    global access_token_secret\n",
    "    access_token_secret = k[\"access_token_secret\"]"
   ]
  },
  {
   "cell_type": "code",
   "execution_count": 114,
   "metadata": {},
   "outputs": [],
   "source": [
    "auth = tweepy.OAuthHandler(consumer_key, consumer_secret)\n",
    "auth.set_access_token(access_token, access_token_secret)\n",
    "\n",
    "api = tweepy.API(auth)"
   ]
  },
  {
   "cell_type": "code",
   "execution_count": 115,
   "metadata": {},
   "outputs": [],
   "source": [
    "ola = api.search(q='corona', lang='pt')"
   ]
  },
  {
   "cell_type": "code",
   "execution_count": 116,
   "metadata": {},
   "outputs": [
    {
     "name": "stdout",
     "output_type": "stream",
     "text": [
      "<class 'tweepy.models.SearchResults'>\n"
     ]
    }
   ],
   "source": [
    "print(type(ola))"
   ]
  },
  {
   "cell_type": "code",
   "execution_count": 117,
   "metadata": {},
   "outputs": [],
   "source": [
    "tweets = [] #lista vazia que colocaremos os tweets\n",
    "for t in ola:\n",
    "    tweets.append((t._json))"
   ]
  },
  {
   "cell_type": "code",
   "execution_count": 119,
   "metadata": {},
   "outputs": [
    {
     "name": "stdout",
     "output_type": "stream",
     "text": [
      "helena? disse: RT @alvaflex: PQP CORONA VÍRUS ME DEIXA VIVER\n",
      "----\n",
      "\n",
      "Giulia Antunes disse: RT @Gobertha: Minha tia tá precisando URGENTE do medicamento Reuquinol, que está em falta por conta de quem comprou por causa do Corona! Se…\n",
      "----\n",
      "\n",
      "#BlackLiveMatters disse: RT @maarcos_go: logo o corona vai ser apenas uma lembrança, e nós vamos estar rindo de tudo isso, junto com o gugu\n",
      "----\n",
      "\n",
      "nagiullia disse: RT @doarda: corona vá embora e eu digo se esperava ou não\n",
      "----\n",
      "\n",
      "-AMorais 🍺 disse: RT @anacarvalhog: tá difícil conseguir acompanhar o ead, continuar estudando por fora o que eu gosto, fazer os meus corres pessoais e acomp…\n",
      "----\n",
      "\n",
      "doralicee🍀✊🏽 disse: RT @Lucasjrdo32: BOA TARDE, AQUI É O CHARLES IRMÃO DELE, MUITOS  SABEM Q O MEU IRMÃO  SE ACIDENTOU DE MOTO HOJE INDO PARA O QUARTEL, JÁ PEG…\n",
      "----\n",
      "\n",
      "𝕁𝕔 disse: @doarda acabe com o corona que eu falo oq acho de vc doarda\n",
      "----\n",
      "\n",
      "maria 🥀 disse: RT @doarda: corona vá embora e eu digo se esperava ou não\n",
      "----\n",
      "\n",
      "local de falha disse: Bate a falta de ar não sei se é corona ou ansiedade\n",
      "----\n",
      "\n",
      "winona ryder fumando disse: RT @doarda: corona vá embora e eu digo se esperava ou não\n",
      "----\n",
      "\n",
      "amiki disse: RT @doarda: corona vá embora e eu digo se esperava ou não\n",
      "----\n",
      "\n",
      "Roman disse: ele testou POSITIVO pra corona, disse q já tá curado e tá me chamando pra date cara q porra eh essa\n",
      "----\n",
      "\n",
      "𝙰𝚗𝚗𝚊 disse: RT @doarda: corona vá embora e eu digo se esperava ou não\n",
      "----\n",
      "\n",
      "𝕊𝕦𝕣𝕥𝕒𝕕𝕒 disse: RT @doarda: corona vá embora e eu digo se esperava ou não\n",
      "----\n",
      "\n",
      "nina disse: RT @doarda: corona vá embora e eu digo se esperava ou não\n",
      "----\n",
      "\n"
     ]
    }
   ],
   "source": [
    "for i in tweets:\n",
    "    print(i[\"user\"][\"name\"]+' disse: ' + i[\"text\"] + '\\n----\\n')"
   ]
  }
 ],
 "metadata": {
  "kernelspec": {
   "display_name": "Python 3",
   "language": "python",
   "name": "python3"
  },
  "language_info": {
   "codemirror_mode": {
    "name": "ipython",
    "version": 3
   },
   "file_extension": ".py",
   "mimetype": "text/x-python",
   "name": "python",
   "nbconvert_exporter": "python",
   "pygments_lexer": "ipython3",
   "version": "3.7.6"
  }
 },
 "nbformat": 4,
 "nbformat_minor": 4
}
